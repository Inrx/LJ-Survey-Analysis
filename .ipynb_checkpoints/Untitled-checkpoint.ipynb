{
 "cells": [
  {
   "cell_type": "code",
   "execution_count": 1,
   "metadata": {},
   "outputs": [],
   "source": [
    "import pandas as pd"
   ]
  },
  {
   "cell_type": "code",
   "execution_count": 4,
   "metadata": {},
   "outputs": [],
   "source": [
    "raw_data = pd.read_excel(\"file:///home/inrx/Documents/LJ-Survey-Analysis/LandingJobs_Surey_RawData.xlsx\", \n",
    "                         sheet_name=1)"
   ]
  },
  {
   "cell_type": "code",
   "execution_count": 74,
   "metadata": {},
   "outputs": [],
   "source": [
    "pd.options.display.max_info_rows = len(raw_data)\n",
    "pd.options.display.max_rows = len(raw_data)"
   ]
  },
  {
   "cell_type": "code",
   "execution_count": 75,
   "metadata": {},
   "outputs": [],
   "source": [
    "pd.options.display.max_info_columns = len(raw_data.columns)\n",
    "pd.options.display.max_columns = len(raw_data.columns)"
   ]
  },
  {
   "cell_type": "code",
   "execution_count": 5,
   "metadata": {},
   "outputs": [
    {
     "data": {
      "text/html": [
       "<div>\n",
       "<style scoped>\n",
       "    .dataframe tbody tr th:only-of-type {\n",
       "        vertical-align: middle;\n",
       "    }\n",
       "\n",
       "    .dataframe tbody tr th {\n",
       "        vertical-align: top;\n",
       "    }\n",
       "\n",
       "    .dataframe thead th {\n",
       "        text-align: right;\n",
       "    }\n",
       "</style>\n",
       "<table border=\"1\" class=\"dataframe\">\n",
       "  <thead>\n",
       "    <tr style=\"text-align: right;\">\n",
       "      <th></th>\n",
       "      <th>ID</th>\n",
       "      <th>Employment_Status</th>\n",
       "      <th>Employment_Status_Aggregated</th>\n",
       "      <th>Work_as_Contractor_12m</th>\n",
       "      <th>Work_as_Perm</th>\n",
       "      <th>Residence_Country</th>\n",
       "      <th>Residence_District</th>\n",
       "      <th>Residence_District_Aggregated</th>\n",
       "      <th>Work_Company_Country</th>\n",
       "      <th>Work_Company_Continent</th>\n",
       "      <th>...</th>\n",
       "      <th>Citizenship</th>\n",
       "      <th>Birth_Year</th>\n",
       "      <th>Age</th>\n",
       "      <th>Gender</th>\n",
       "      <th>English_Level</th>\n",
       "      <th>Way_Into_Tech</th>\n",
       "      <th>Way_Into_Tech_Other</th>\n",
       "      <th>Education_Level</th>\n",
       "      <th>Working_Experience</th>\n",
       "      <th>Working_Experience_Aggregated</th>\n",
       "    </tr>\n",
       "  </thead>\n",
       "  <tbody>\n",
       "    <tr>\n",
       "      <th>0</th>\n",
       "      <td>1</td>\n",
       "      <td>Employed full-time</td>\n",
       "      <td>Permanent Employee</td>\n",
       "      <td>1.0</td>\n",
       "      <td>NaN</td>\n",
       "      <td>Portugal</td>\n",
       "      <td>Santarém</td>\n",
       "      <td>Centre</td>\n",
       "      <td>Portugal</td>\n",
       "      <td>Europe</td>\n",
       "      <td>...</td>\n",
       "      <td>Portuguese</td>\n",
       "      <td>1984.0</td>\n",
       "      <td>37.0</td>\n",
       "      <td>Male</td>\n",
       "      <td>Full professional proficiency</td>\n",
       "      <td>University</td>\n",
       "      <td>NaN</td>\n",
       "      <td>NaN</td>\n",
       "      <td>More than 9 years</td>\n",
       "      <td>6+ years</td>\n",
       "    </tr>\n",
       "    <tr>\n",
       "      <th>1</th>\n",
       "      <td>2</td>\n",
       "      <td>Employed full-time</td>\n",
       "      <td>Permanent Employee</td>\n",
       "      <td>0.0</td>\n",
       "      <td>NaN</td>\n",
       "      <td>Portugal</td>\n",
       "      <td>Coimbra</td>\n",
       "      <td>Centre</td>\n",
       "      <td>Portugal</td>\n",
       "      <td>Europe</td>\n",
       "      <td>...</td>\n",
       "      <td>Portuguese</td>\n",
       "      <td>1976.0</td>\n",
       "      <td>45.0</td>\n",
       "      <td>Male</td>\n",
       "      <td>Full professional proficiency</td>\n",
       "      <td>Self-taught</td>\n",
       "      <td>NaN</td>\n",
       "      <td>NaN</td>\n",
       "      <td>More than 9 years</td>\n",
       "      <td>6+ years</td>\n",
       "    </tr>\n",
       "    <tr>\n",
       "      <th>2</th>\n",
       "      <td>3</td>\n",
       "      <td>Working as a Contractor/Freelancer</td>\n",
       "      <td>Contractor</td>\n",
       "      <td>NaN</td>\n",
       "      <td>1.0</td>\n",
       "      <td>Portugal</td>\n",
       "      <td>Porto</td>\n",
       "      <td>Porto Metropolitan Area</td>\n",
       "      <td>No specific country</td>\n",
       "      <td>NaN</td>\n",
       "      <td>...</td>\n",
       "      <td>Portuguese</td>\n",
       "      <td>1986.0</td>\n",
       "      <td>35.0</td>\n",
       "      <td>Male</td>\n",
       "      <td>Full professional proficiency</td>\n",
       "      <td>University</td>\n",
       "      <td>NaN</td>\n",
       "      <td>Bachelor degree</td>\n",
       "      <td>Between 1 - 3 years</td>\n",
       "      <td>0 - 3 years</td>\n",
       "    </tr>\n",
       "    <tr>\n",
       "      <th>3</th>\n",
       "      <td>4</td>\n",
       "      <td>Employed full-time</td>\n",
       "      <td>Permanent Employee</td>\n",
       "      <td>1.0</td>\n",
       "      <td>NaN</td>\n",
       "      <td>Portugal</td>\n",
       "      <td>Açores</td>\n",
       "      <td>Azores and Madeira</td>\n",
       "      <td>Portugal</td>\n",
       "      <td>Europe</td>\n",
       "      <td>...</td>\n",
       "      <td>Portuguese</td>\n",
       "      <td>1975.0</td>\n",
       "      <td>46.0</td>\n",
       "      <td>Male</td>\n",
       "      <td>Full professional proficiency</td>\n",
       "      <td>University</td>\n",
       "      <td>NaN</td>\n",
       "      <td>Bachelor degree</td>\n",
       "      <td>More than 9 years</td>\n",
       "      <td>6+ years</td>\n",
       "    </tr>\n",
       "    <tr>\n",
       "      <th>4</th>\n",
       "      <td>5</td>\n",
       "      <td>Employed full-time</td>\n",
       "      <td>Permanent Employee</td>\n",
       "      <td>0.0</td>\n",
       "      <td>NaN</td>\n",
       "      <td>Portugal</td>\n",
       "      <td>Braga</td>\n",
       "      <td>North</td>\n",
       "      <td>Portugal</td>\n",
       "      <td>Europe</td>\n",
       "      <td>...</td>\n",
       "      <td>Portuguese</td>\n",
       "      <td>1989.0</td>\n",
       "      <td>32.0</td>\n",
       "      <td>Male</td>\n",
       "      <td>Professional working proficiency</td>\n",
       "      <td>University</td>\n",
       "      <td>NaN</td>\n",
       "      <td>Bachelor degree</td>\n",
       "      <td>Between 6 - 9 years</td>\n",
       "      <td>6+ years</td>\n",
       "    </tr>\n",
       "  </tbody>\n",
       "</table>\n",
       "<p>5 rows × 126 columns</p>\n",
       "</div>"
      ],
      "text/plain": [
       "   ID                   Employment_Status Employment_Status_Aggregated  \\\n",
       "0   1                  Employed full-time           Permanent Employee   \n",
       "1   2                  Employed full-time           Permanent Employee   \n",
       "2   3  Working as a Contractor/Freelancer                   Contractor   \n",
       "3   4                  Employed full-time           Permanent Employee   \n",
       "4   5                  Employed full-time           Permanent Employee   \n",
       "\n",
       "   Work_as_Contractor_12m  Work_as_Perm Residence_Country Residence_District  \\\n",
       "0                     1.0           NaN          Portugal           Santarém   \n",
       "1                     0.0           NaN          Portugal            Coimbra   \n",
       "2                     NaN           1.0          Portugal              Porto   \n",
       "3                     1.0           NaN          Portugal             Açores   \n",
       "4                     0.0           NaN          Portugal              Braga   \n",
       "\n",
       "  Residence_District_Aggregated Work_Company_Country Work_Company_Continent  \\\n",
       "0                        Centre             Portugal                 Europe   \n",
       "1                        Centre             Portugal                 Europe   \n",
       "2       Porto Metropolitan Area  No specific country                    NaN   \n",
       "3            Azores and Madeira             Portugal                 Europe   \n",
       "4                         North             Portugal                 Europe   \n",
       "\n",
       "   ... Citizenship Birth_Year   Age Gender                     English_Level  \\\n",
       "0  ...  Portuguese     1984.0  37.0   Male     Full professional proficiency   \n",
       "1  ...  Portuguese     1976.0  45.0   Male     Full professional proficiency   \n",
       "2  ...  Portuguese     1986.0  35.0   Male     Full professional proficiency   \n",
       "3  ...  Portuguese     1975.0  46.0   Male     Full professional proficiency   \n",
       "4  ...  Portuguese     1989.0  32.0   Male  Professional working proficiency   \n",
       "\n",
       "  Way_Into_Tech Way_Into_Tech_Other  Education_Level   Working_Experience  \\\n",
       "0    University                 NaN              NaN    More than 9 years   \n",
       "1   Self-taught                 NaN              NaN    More than 9 years   \n",
       "2    University                 NaN  Bachelor degree  Between 1 - 3 years   \n",
       "3    University                 NaN  Bachelor degree    More than 9 years   \n",
       "4    University                 NaN  Bachelor degree  Between 6 - 9 years   \n",
       "\n",
       "  Working_Experience_Aggregated  \n",
       "0                      6+ years  \n",
       "1                      6+ years  \n",
       "2                   0 - 3 years  \n",
       "3                      6+ years  \n",
       "4                      6+ years  \n",
       "\n",
       "[5 rows x 126 columns]"
      ]
     },
     "execution_count": 5,
     "metadata": {},
     "output_type": "execute_result"
    }
   ],
   "source": [
    "raw_data.head()"
   ]
  },
  {
   "cell_type": "code",
   "execution_count": 60,
   "metadata": {},
   "outputs": [
    {
     "data": {
      "text/plain": [
       "(3371, 126)"
      ]
     },
     "execution_count": 60,
     "metadata": {},
     "output_type": "execute_result"
    }
   ],
   "source": [
    "raw_data.shape"
   ]
  },
  {
   "cell_type": "code",
   "execution_count": 84,
   "metadata": {},
   "outputs": [
    {
     "name": "stdout",
     "output_type": "stream",
     "text": [
      "<class 'pandas.core.frame.DataFrame'>\n",
      "RangeIndex: 3371 entries, 0 to 3370\n",
      "Data columns (total 126 columns):\n",
      " #   Column                                                                       Non-Null Count  Dtype  \n",
      "---  ------                                                                       --------------  -----  \n",
      " 0   ID                                                                           3371 non-null   int64  \n",
      " 1   Employment_Status                                                            3371 non-null   object \n",
      " 2   Employment_Status_Aggregated                                                 3371 non-null   object \n",
      " 3   Work_as_Contractor_12m                                                       3166 non-null   float64\n",
      " 4   Work_as_Perm                                                                 205 non-null    float64\n",
      " 5   Residence_Country                                                            3371 non-null   object \n",
      " 6   Residence_District                                                           3371 non-null   object \n",
      " 7   Residence_District_Aggregated                                                3371 non-null   object \n",
      " 8   Work_Company_Country                                                         3369 non-null   object \n",
      " 9   Work_Company_Continent                                                       3329 non-null   object \n",
      " 10  Work_Company_PT_International                                                3371 non-null   object \n",
      " 11  Work_Company_PT_District                                                     2592 non-null   object \n",
      " 12  Work_Company_PT_District_Aggregated                                          2592 non-null   object \n",
      " 13  Remote_Working_Current                                                       3371 non-null   object \n",
      " 14  Remote_Working_Current_Flexible_Office_Days                                  907 non-null    float64\n",
      " 15  Remote_Working_due_to_Covid                                                  3028 non-null   object \n",
      " 16  Job_Remote_or_Office                                                         3371 non-null   object \n",
      " 17  Remote_Work_Opinion                                                          3369 non-null   float64\n",
      " 18  Job_Role_Original                                                            3249 non-null   object \n",
      " 19  Job_Role_Other                                                               122 non-null    object \n",
      " 20  Job_Role                                                                     3371 non-null   object \n",
      " 21  Employer_Industry                                                            3260 non-null   object \n",
      " 22  Employer_Industry_Other                                                      75 non-null     object \n",
      " 23  Employer_Org_Type                                                            3330 non-null   object \n",
      " 24  Employer_Org_Type_Other                                                      41 non-null     object \n",
      " 25  Employer_Size                                                                3371 non-null   object \n",
      " 26  Language_JavaScript                                                          1720 non-null   object \n",
      " 27  Language_Bash/Shell/PowerShell                                               612 non-null    object \n",
      " 28  Language_SQL                                                                 1555 non-null   object \n",
      " 29  Language_Java                                                                794 non-null    object \n",
      " 30  Language_C#                                                                  749 non-null    object \n",
      " 31  Language_Python                                                              617 non-null    object \n",
      " 32  Language_PHP                                                                 470 non-null    object \n",
      " 33  Language_C++                                                                 177 non-null    object \n",
      " 34  Language_C                                                                   107 non-null    object \n",
      " 35  Language_TypeScript                                                          699 non-null    object \n",
      " 36  Language_Ruby                                                                158 non-null    object \n",
      " 37  Language_Swift                                                               118 non-null    object \n",
      " 38  Language_Objective-C                                                         57 non-null     object \n",
      " 39  Language_VB.NET                                                              108 non-null    object \n",
      " 40  Language_Assembly                                                            11 non-null     object \n",
      " 41  Language_R                                                                   64 non-null     object \n",
      " 42  Language_Perl                                                                28 non-null     object \n",
      " 43  Language_VBA                                                                 96 non-null     object \n",
      " 44  Language_Matlab                                                              21 non-null     object \n",
      " 45  Language_Go                                                                  129 non-null    object \n",
      " 46  Language_Scala                                                               68 non-null     object \n",
      " 47  Language_Groovy                                                              80 non-null     object \n",
      " 48  Language_Coffee Script                                                       12 non-null     object \n",
      " 49  Language_Visual Basic 6                                                      44 non-null     object \n",
      " 50  Language_Lua                                                                 17 non-null     object \n",
      " 51  Language_Haskell                                                             3 non-null      object \n",
      " 52  Language_HTML/CSS                                                            1210 non-null   object \n",
      " 53  Language_Kotlin                                                              180 non-null    object \n",
      " 54  Language_Rust                                                                23 non-null     object \n",
      " 55  Language_Elixir                                                              33 non-null     object \n",
      " 56  Language_Clojure                                                             8 non-null      object \n",
      " 57  Language_WebAssembly                                                         20 non-null     object \n",
      " 58  Language_Dart                                                                43 non-null     object \n",
      " 59  Language_Languages_N/A                                                       0 non-null      float64\n",
      " 60  Language_Languages_Other                                                     203 non-null    object \n",
      " 61  Framework_jQuery                                                             766 non-null    object \n",
      " 62  Framework_.NET                                                               772 non-null    object \n",
      " 63  Framework_Angular/Angular.js                                                 572 non-null    object \n",
      " 64  Framework_Ruby on Rails                                                      145 non-null    object \n",
      " 65  Framework_React                                                              756 non-null    object \n",
      " 66  Framework_Django                                                             140 non-null    object \n",
      " 67  Framework_Laravel                                                            193 non-null    object \n",
      " 68  Framework_Spring                                                             404 non-null    object \n",
      " 69  Framework_Vue.js                                                             278 non-null    object \n",
      " 70  Framework_Express                                                            256 non-null    object \n",
      " 71  Framework_Meteor                                                             7 non-null      object \n",
      " 72  Framework_Flask                                                              112 non-null    object \n",
      " 73  Framework_Ember.js                                                           19 non-null     object \n",
      " 74  Framework_Drupal                                                             50 non-null     object \n",
      " 75  Framework_OutSystems                                                         52 non-null     object \n",
      " 76  Framework_Framework_N/A                                                      0 non-null      float64\n",
      " 77  Framework_Framework_Other                                                    304 non-null    object \n",
      " 78  Contractor_Avg_Project                                                       205 non-null    object \n",
      " 79  Contractor_Avg_Project_Intervals                                             205 non-null    object \n",
      " 80  Contractor_Avg_Hour_Rate                                                     205 non-null    float64\n",
      " 81  Contractor_Avg_Annual_Salary                                                 205 non-null    float64\n",
      " 82  Perm_Current_Company_how_long                                                3166 non-null   object \n",
      " 83  Perm_GAS                                                                     3166 non-null   object \n",
      " 84  Perm_GAS_Avg                                                                 3166 non-null   float64\n",
      " 85  Perm_GAS_Low_Limit                                                           3166 non-null   float64\n",
      " 86  Perm_GAS_High_Limit                                                          3166 non-null   float64\n",
      " 87  Avg_Salary                                                                   3371 non-null   int64  \n",
      " 88  Salary_Change                                                                3370 non-null   object \n",
      " 89  Salary_Fairness                                                              3371 non-null   int64  \n",
      " 90  Changing_Jobs_next_6_months                                                  3369 non-null   float64\n",
      " 91  Job_Motivator_Work_life_balance                                              3371 non-null   int64  \n",
      " 92  Job_Motivator_Compensation_and_benefits                                      3371 non-null   int64  \n",
      " 93  Job_Motivator_Training/Development_programs_at_work                          3371 non-null   int64  \n",
      " 94  Job_Motivator_Career_growth_opportunities                                    3371 non-null   int64  \n",
      " 95  Job_Motivator_Remote_working                                                 3371 non-null   int64  \n",
      " 96  Job_Motivator_Flexible_schedule                                              3371 non-null   int64  \n",
      " 97  Job_Motivator_Company_culture                                                3371 non-null   int64  \n",
      " 98  Job_Motivator_The_technologies_I'm_working_with                              3371 non-null   int64  \n",
      " 99  Job_Motivator_Versatility/Variety_of_projects                                3371 non-null   int64  \n",
      " 100 Job_Motivator_Freedom_to_choose_the_clients_and/or_projects                  3371 non-null   int64  \n",
      " 101 Job_Motivator_Being_autonomous_at_work                                       3371 non-null   int64  \n",
      " 102 Job_Motivator_How_widely_used_or_impactful_the_product/service_I_work_on_is  3371 non-null   int64  \n",
      " 103 Job_Motivator_Environmentally_friendly/responsible_work_practice             3371 non-null   int64  \n",
      " 104 Job_Perk_Meals_allowance/Company_provided_meals_or_snacks                    3371 non-null   int64  \n",
      " 105 Job_Perk_Transportation_benefit                                              3371 non-null   int64  \n",
      " 106 Job_Perk_Health_benefits                                                     3371 non-null   int64  \n",
      " 107 Job_Perk_Fitness_or_wellness_benefit_(ex._gym_membership)                    3371 non-null   int64  \n",
      " 108 Job_Perk_Computer/_Office_equipment_allowance                                3371 non-null   int64  \n",
      " 109 Job_Perk_Professional_development_sponsorship                                3371 non-null   int64  \n",
      " 110 Job_Perk_Annual_bonus                                                        3371 non-null   int64  \n",
      " 111 Job_Perk_Long-term_leave                                                     3371 non-null   int64  \n",
      " 112 Job_Perk_Parental_leave                                                      3371 non-null   int64  \n",
      " 113 Job_Perk_Stock_options_or_shares                                             3371 non-null   int64  \n",
      " 114 Job_Perk_Education_sponsorship                                               3371 non-null   int64  \n",
      " 115 Job_Perk_Child_care                                                          3371 non-null   int64  \n",
      " 116 Citizenship                                                                  3371 non-null   object \n",
      " 117 Birth_Year                                                                   3365 non-null   float64\n",
      " 118 Age                                                                          3365 non-null   float64\n",
      " 119 Gender                                                                       3371 non-null   object \n",
      " 120 English_Level                                                                3371 non-null   object \n",
      " 121 Way_Into_Tech                                                                3296 non-null   object \n",
      " 122 Way_Into_Tech_Other                                                          74 non-null     object \n",
      " 123 Education_Level                                                              3369 non-null   object \n",
      " 124 Working_Experience                                                           3371 non-null   object \n",
      " 125 Working_Experience_Aggregated                                                3371 non-null   object \n",
      "dtypes: float64(14), int64(28), object(84)\n",
      "memory usage: 3.2+ MB\n"
     ]
    }
   ],
   "source": [
    "raw_data.info(null_counts=True)"
   ]
  },
  {
   "cell_type": "code",
   "execution_count": 76,
   "metadata": {},
   "outputs": [
    {
     "data": {
      "text/plain": [
       "ID                                                                             3371\n",
       "Employment_Status                                                                 3\n",
       "Employment_Status_Aggregated                                                      2\n",
       "Work_as_Contractor_12m                                                            3\n",
       "Work_as_Perm                                                                      3\n",
       "Residence_Country                                                                 1\n",
       "Residence_District                                                               21\n",
       "Residence_District_Aggregated                                                     7\n",
       "Work_Company_Country                                                             40\n",
       "Work_Company_Continent                                                            8\n",
       "Work_Company_PT_International                                                     2\n",
       "Work_Company_PT_District                                                         22\n",
       "Work_Company_PT_District_Aggregated                                               8\n",
       "Remote_Working_Current                                                            3\n",
       "Remote_Working_Current_Flexible_Office_Days                                       6\n",
       "Remote_Working_due_to_Covid                                                       3\n",
       "Job_Remote_or_Office                                                              2\n",
       "Remote_Work_Opinion                                                               8\n",
       "Job_Role_Original                                                                19\n",
       "Job_Role_Other                                                                  100\n",
       "Job_Role                                                                         18\n",
       "Employer_Industry                                                                25\n",
       "Employer_Industry_Other                                                          64\n",
       "Employer_Org_Type                                                                 8\n",
       "Employer_Org_Type_Other                                                          37\n",
       "Employer_Size                                                                     7\n",
       "Language_JavaScript                                                               2\n",
       "Language_Bash/Shell/PowerShell                                                    2\n",
       "Language_SQL                                                                      2\n",
       "Language_Java                                                                     2\n",
       "Language_C#                                                                       2\n",
       "Language_Python                                                                   2\n",
       "Language_PHP                                                                      2\n",
       "Language_C++                                                                      2\n",
       "Language_C                                                                        2\n",
       "Language_TypeScript                                                               2\n",
       "Language_Ruby                                                                     2\n",
       "Language_Swift                                                                    2\n",
       "Language_Objective-C                                                              2\n",
       "Language_VB.NET                                                                   2\n",
       "Language_Assembly                                                                 2\n",
       "Language_R                                                                        2\n",
       "Language_Perl                                                                     2\n",
       "Language_VBA                                                                      2\n",
       "Language_Matlab                                                                   2\n",
       "Language_Go                                                                       2\n",
       "Language_Scala                                                                    2\n",
       "Language_Groovy                                                                   2\n",
       "Language_Coffee Script                                                            2\n",
       "Language_Visual Basic 6                                                           2\n",
       "Language_Lua                                                                      2\n",
       "Language_Haskell                                                                  2\n",
       "Language_HTML/CSS                                                                 2\n",
       "Language_Kotlin                                                                   2\n",
       "Language_Rust                                                                     2\n",
       "Language_Elixir                                                                   2\n",
       "Language_Clojure                                                                  2\n",
       "Language_WebAssembly                                                              2\n",
       "Language_Dart                                                                     2\n",
       "Language_Languages_N/A                                                            1\n",
       "Language_Languages_Other                                                        107\n",
       "Framework_jQuery                                                                  2\n",
       "Framework_.NET                                                                    2\n",
       "Framework_Angular/Angular.js                                                      2\n",
       "Framework_Ruby on Rails                                                           2\n",
       "Framework_React                                                                   2\n",
       "Framework_Django                                                                  2\n",
       "Framework_Laravel                                                                 2\n",
       "Framework_Spring                                                                  2\n",
       "Framework_Vue.js                                                                  2\n",
       "Framework_Express                                                                 2\n",
       "Framework_Meteor                                                                  2\n",
       "Framework_Flask                                                                   2\n",
       "Framework_Ember.js                                                                2\n",
       "Framework_Drupal                                                                  2\n",
       "Framework_OutSystems                                                              2\n",
       "Framework_Framework_N/A                                                           1\n",
       "Framework_Framework_Other                                                       191\n",
       "Contractor_Avg_Project                                                           15\n",
       "Contractor_Avg_Project_Intervals                                                  6\n",
       "Contractor_Avg_Hour_Rate                                                         59\n",
       "Contractor_Avg_Annual_Salary                                                     59\n",
       "Perm_Current_Company_how_long                                                     4\n",
       "Perm_GAS                                                                         20\n",
       "Perm_GAS_Avg                                                                     20\n",
       "Perm_GAS_Low_Limit                                                               20\n",
       "Perm_GAS_High_Limit                                                              20\n",
       "Avg_Salary                                                                       77\n",
       "Salary_Change                                                                     8\n",
       "Salary_Fairness                                                                   7\n",
       "Changing_Jobs_next_6_months                                                       6\n",
       "Job_Motivator_Work_life_balance                                                   7\n",
       "Job_Motivator_Compensation_and_benefits                                           7\n",
       "Job_Motivator_Training/Development_programs_at_work                               7\n",
       "Job_Motivator_Career_growth_opportunities                                         7\n",
       "Job_Motivator_Remote_working                                                      7\n",
       "Job_Motivator_Flexible_schedule                                                   7\n",
       "Job_Motivator_Company_culture                                                     7\n",
       "Job_Motivator_The_technologies_I'm_working_with                                   7\n",
       "Job_Motivator_Versatility/Variety_of_projects                                     7\n",
       "Job_Motivator_Freedom_to_choose_the_clients_and/or_projects                       7\n",
       "Job_Motivator_Being_autonomous_at_work                                            7\n",
       "Job_Motivator_How_widely_used_or_impactful_the_product/service_I_work_on_is       7\n",
       "Job_Motivator_Environmentally_friendly/responsible_work_practice                  7\n",
       "Job_Perk_Meals_allowance/Company_provided_meals_or_snacks                         7\n",
       "Job_Perk_Transportation_benefit                                                   7\n",
       "Job_Perk_Health_benefits                                                          7\n",
       "Job_Perk_Fitness_or_wellness_benefit_(ex._gym_membership)                         7\n",
       "Job_Perk_Computer/_Office_equipment_allowance                                     7\n",
       "Job_Perk_Professional_development_sponsorship                                     7\n",
       "Job_Perk_Annual_bonus                                                             7\n",
       "Job_Perk_Long-term_leave                                                          7\n",
       "Job_Perk_Parental_leave                                                           7\n",
       "Job_Perk_Stock_options_or_shares                                                  7\n",
       "Job_Perk_Education_sponsorship                                                    7\n",
       "Job_Perk_Child_care                                                               7\n",
       "Citizenship                                                                      40\n",
       "Birth_Year                                                                       45\n",
       "Age                                                                              45\n",
       "Gender                                                                            3\n",
       "English_Level                                                                     5\n",
       "Way_Into_Tech                                                                     4\n",
       "Way_Into_Tech_Other                                                              66\n",
       "Education_Level                                                                   9\n",
       "Working_Experience                                                                6\n",
       "Working_Experience_Aggregated                                                     4\n",
       "dtype: int64"
      ]
     },
     "execution_count": 76,
     "metadata": {},
     "output_type": "execute_result"
    }
   ],
   "source": [
    "raw_data.nunique(dropna=False)"
   ]
  },
  {
   "cell_type": "code",
   "execution_count": 77,
   "metadata": {},
   "outputs": [
    {
     "data": {
      "text/plain": [
       "Employed full-time                    3131\n",
       "Working as a Contractor/Freelancer     205\n",
       "Employed part-time                      35\n",
       "Name: Employment_Status, dtype: int64"
      ]
     },
     "execution_count": 77,
     "metadata": {},
     "output_type": "execute_result"
    }
   ],
   "source": [
    "raw_data.Employment_Status.value_counts()"
   ]
  },
  {
   "cell_type": "code",
   "execution_count": 78,
   "metadata": {},
   "outputs": [
    {
     "data": {
      "text/plain": [
       "Portugal    3371\n",
       "Name: Residence_Country, dtype: int64"
      ]
     },
     "execution_count": 78,
     "metadata": {},
     "output_type": "execute_result"
    }
   ],
   "source": [
    "raw_data.Residence_Country.value_counts()"
   ]
  },
  {
   "cell_type": "code",
   "execution_count": 79,
   "metadata": {},
   "outputs": [
    {
     "data": {
      "text/plain": [
       "Lisboa              1174\n",
       "Porto                733\n",
       "Braga                265\n",
       "Coimbra              200\n",
       "Setúbal              186\n",
       "Leiria               120\n",
       "Faro                 118\n",
       "Madeira              103\n",
       "Aveiro                94\n",
       "Castelo Branco        93\n",
       "Viseu                 55\n",
       "Açores                40\n",
       "Santarém              38\n",
       "Évora                 37\n",
       "Viana do Castelo      34\n",
       "Bragança              24\n",
       "Vila Real             16\n",
       "Guarda                14\n",
       "Portalegre            14\n",
       "Beja                  10\n",
       "Other                  3\n",
       "Name: Residence_District, dtype: int64"
      ]
     },
     "execution_count": 79,
     "metadata": {},
     "output_type": "execute_result"
    }
   ],
   "source": [
    "raw_data.Residence_District.value_counts()"
   ]
  },
  {
   "cell_type": "code",
   "execution_count": 81,
   "metadata": {},
   "outputs": [
    {
     "data": {
      "text/plain": [
       "Male                   2899\n",
       "Female                  422\n",
       "I prefer not to say      50\n",
       "Name: Gender, dtype: int64"
      ]
     },
     "execution_count": 81,
     "metadata": {},
     "output_type": "execute_result"
    }
   ],
   "source": [
    "raw_data.Gender.value_counts()"
   ]
  },
  {
   "cell_type": "code",
   "execution_count": 90,
   "metadata": {
    "scrolled": false
   },
   "outputs": [
    {
     "name": "stdout",
     "output_type": "stream",
     "text": [
      "----------------------------------------ID---------------------------------------- - "
     ]
    },
    {
     "data": {
      "text/plain": [
       "2047    1\n",
       "2576    1\n",
       "2624    1\n",
       "573     1\n",
       "2620    1\n",
       "569     1\n",
       "2616    1\n",
       "565     1\n",
       "2612    1\n",
       "561     1\n",
       "Name: ID, dtype: int64"
      ]
     },
     "metadata": {},
     "output_type": "display_data"
    },
    {
     "name": "stdout",
     "output_type": "stream",
     "text": [
      "----------------------------------------Employment_Status---------------------------------------- - "
     ]
    },
    {
     "data": {
      "text/plain": [
       "Employed full-time                    3131\n",
       "Working as a Contractor/Freelancer     205\n",
       "Employed part-time                      35\n",
       "Name: Employment_Status, dtype: int64"
      ]
     },
     "metadata": {},
     "output_type": "display_data"
    },
    {
     "name": "stdout",
     "output_type": "stream",
     "text": [
      "----------------------------------------Employment_Status_Aggregated---------------------------------------- - "
     ]
    },
    {
     "data": {
      "text/plain": [
       "Permanent Employee    3166\n",
       "Contractor             205\n",
       "Name: Employment_Status_Aggregated, dtype: int64"
      ]
     },
     "metadata": {},
     "output_type": "display_data"
    },
    {
     "name": "stdout",
     "output_type": "stream",
     "text": [
      "----------------------------------------Work_as_Contractor_12m---------------------------------------- - "
     ]
    },
    {
     "data": {
      "text/plain": [
       "0.0    2269\n",
       "1.0     897\n",
       "NaN     205\n",
       "Name: Work_as_Contractor_12m, dtype: int64"
      ]
     },
     "metadata": {},
     "output_type": "display_data"
    },
    {
     "name": "stdout",
     "output_type": "stream",
     "text": [
      "----------------------------------------Work_as_Perm---------------------------------------- - "
     ]
    },
    {
     "data": {
      "text/plain": [
       "NaN    3166\n",
       "1.0     137\n",
       "0.0      68\n",
       "Name: Work_as_Perm, dtype: int64"
      ]
     },
     "metadata": {},
     "output_type": "display_data"
    },
    {
     "name": "stdout",
     "output_type": "stream",
     "text": [
      "----------------------------------------Residence_Country---------------------------------------- - "
     ]
    },
    {
     "data": {
      "text/plain": [
       "Portugal    3371\n",
       "Name: Residence_Country, dtype: int64"
      ]
     },
     "metadata": {},
     "output_type": "display_data"
    },
    {
     "name": "stdout",
     "output_type": "stream",
     "text": [
      "----------------------------------------Residence_District---------------------------------------- - "
     ]
    },
    {
     "data": {
      "text/plain": [
       "Lisboa            1174\n",
       "Porto              733\n",
       "Braga              265\n",
       "Coimbra            200\n",
       "Setúbal            186\n",
       "Leiria             120\n",
       "Faro               118\n",
       "Madeira            103\n",
       "Aveiro              94\n",
       "Castelo Branco      93\n",
       "Name: Residence_District, dtype: int64"
      ]
     },
     "metadata": {},
     "output_type": "display_data"
    },
    {
     "name": "stdout",
     "output_type": "stream",
     "text": [
      "----------------------------------------Residence_District_Aggregated---------------------------------------- - "
     ]
    },
    {
     "data": {
      "text/plain": [
       "Lisbon Metropolitan Area    1360\n",
       "Porto Metropolitan Area      733\n",
       "Centre                       614\n",
       "North                        339\n",
       "South                        179\n",
       "Azores and Madeira           143\n",
       "Other                          3\n",
       "Name: Residence_District_Aggregated, dtype: int64"
      ]
     },
     "metadata": {},
     "output_type": "display_data"
    },
    {
     "name": "stdout",
     "output_type": "stream",
     "text": [
      "----------------------------------------Work_Company_Country---------------------------------------- - "
     ]
    },
    {
     "data": {
      "text/plain": [
       "Portugal               2594\n",
       "USA                     155\n",
       "UK                      130\n",
       "Germany                  98\n",
       "France                   63\n",
       "Netherlands              52\n",
       "Switzerland              46\n",
       "No specific country      39\n",
       "Spain                    28\n",
       "Ireland                  21\n",
       "Name: Work_Company_Country, dtype: int64"
      ]
     },
     "metadata": {},
     "output_type": "display_data"
    },
    {
     "name": "stdout",
     "output_type": "stream",
     "text": [
      "----------------------------------------Work_Company_Continent---------------------------------------- - "
     ]
    },
    {
     "data": {
      "text/plain": [
       "Europe           3108\n",
       "North America     168\n",
       "NaN                42\n",
       "South America      20\n",
       "Middle East        15\n",
       "Asia                9\n",
       "Africa              7\n",
       "Oceania             2\n",
       "Name: Work_Company_Continent, dtype: int64"
      ]
     },
     "metadata": {},
     "output_type": "display_data"
    },
    {
     "name": "stdout",
     "output_type": "stream",
     "text": [
      "----------------------------------------Work_Company_PT_International---------------------------------------- - "
     ]
    },
    {
     "data": {
      "text/plain": [
       "Portugal         2594\n",
       "International     777\n",
       "Name: Work_Company_PT_International, dtype: int64"
      ]
     },
     "metadata": {},
     "output_type": "display_data"
    },
    {
     "name": "stdout",
     "output_type": "stream",
     "text": [
      "----------------------------------------Work_Company_PT_District---------------------------------------- - "
     ]
    },
    {
     "data": {
      "text/plain": [
       "Lisboa            1254\n",
       "NaN                779\n",
       "Porto              625\n",
       "Coimbra            144\n",
       "Braga              140\n",
       "Faro                62\n",
       "Aveiro              61\n",
       "Leiria              59\n",
       "Madeira             56\n",
       "Castelo Branco      44\n",
       "Name: Work_Company_PT_District, dtype: int64"
      ]
     },
     "metadata": {},
     "output_type": "display_data"
    },
    {
     "name": "stdout",
     "output_type": "stream",
     "text": [
      "----------------------------------------Work_Company_PT_District_Aggregated---------------------------------------- - "
     ]
    },
    {
     "data": {
      "text/plain": [
       "Lisbon Metropolitan Area    1270\n",
       "NaN                          779\n",
       "Porto Metropolitan Area      625\n",
       "Centre                       352\n",
       "North                        176\n",
       "South                         84\n",
       "Azores and Madeira            76\n",
       "Other                          9\n",
       "Name: Work_Company_PT_District_Aggregated, dtype: int64"
      ]
     },
     "metadata": {},
     "output_type": "display_data"
    },
    {
     "name": "stdout",
     "output_type": "stream",
     "text": [
      "----------------------------------------Remote_Working_Current---------------------------------------- - "
     ]
    },
    {
     "data": {
      "text/plain": [
       "Yes, fully remote                     2121\n",
       "Flexible between remote and office     907\n",
       "No, full office job                    343\n",
       "Name: Remote_Working_Current, dtype: int64"
      ]
     },
     "metadata": {},
     "output_type": "display_data"
    },
    {
     "name": "stdout",
     "output_type": "stream",
     "text": [
      "----------------------------------------Remote_Working_Current_Flexible_Office_Days---------------------------------------- - "
     ]
    },
    {
     "data": {
      "text/plain": [
       "NaN    2464\n",
       "3.0     231\n",
       "1.0     220\n",
       "2.0     187\n",
       "5.0     166\n",
       "4.0     103\n",
       "Name: Remote_Working_Current_Flexible_Office_Days, dtype: int64"
      ]
     },
     "metadata": {},
     "output_type": "display_data"
    },
    {
     "name": "stdout",
     "output_type": "stream",
     "text": [
      "----------------------------------------Remote_Working_due_to_Covid---------------------------------------- - "
     ]
    },
    {
     "data": {
      "text/plain": [
       "Working remote because of Covid-19                   1876\n",
       "My job is remote (full or flexible) by definition    1152\n",
       "NaN                                                   343\n",
       "Name: Remote_Working_due_to_Covid, dtype: int64"
      ]
     },
     "metadata": {},
     "output_type": "display_data"
    },
    {
     "name": "stdout",
     "output_type": "stream",
     "text": [
      "----------------------------------------Job_Remote_or_Office---------------------------------------- - "
     ]
    },
    {
     "data": {
      "text/plain": [
       "Full Office Job                  2219\n",
       "Remote Job (full or flexible)    1152\n",
       "Name: Job_Remote_or_Office, dtype: int64"
      ]
     },
     "metadata": {},
     "output_type": "display_data"
    },
    {
     "name": "stdout",
     "output_type": "stream",
     "text": [
      "----------------------------------------Remote_Work_Opinion---------------------------------------- - "
     ]
    },
    {
     "data": {
      "text/plain": [
       "5.0    986\n",
       "6.0    922\n",
       "7.0    686\n",
       "4.0    542\n",
       "3.0    168\n",
       "2.0     56\n",
       "1.0      9\n",
       "NaN      2\n",
       "Name: Remote_Work_Opinion, dtype: int64"
      ]
     },
     "metadata": {},
     "output_type": "display_data"
    },
    {
     "name": "stdout",
     "output_type": "stream",
     "text": [
      "----------------------------------------Job_Role_Original---------------------------------------- - "
     ]
    },
    {
     "data": {
      "text/plain": [
       "Full-Stack Developer             831\n",
       "Back-End Developer               500\n",
       "Technical Team Leader            300\n",
       "Front-End Developer              295\n",
       "Project Manager                  236\n",
       "Data Scientist/Data Engineer     157\n",
       "Product Owner/Product Manager    140\n",
       "Mobile Apps Developer            125\n",
       "NaN                              122\n",
       "UX/UI Designer                   107\n",
       "Name: Job_Role_Original, dtype: int64"
      ]
     },
     "metadata": {},
     "output_type": "display_data"
    },
    {
     "name": "stdout",
     "output_type": "stream",
     "text": [
      "----------------------------------------Job_Role_Other---------------------------------------- - "
     ]
    },
    {
     "data": {
      "text/plain": [
       "NaN                     3249\n",
       "Engineering Manager        7\n",
       "Head of Engineering        5\n",
       "Developer                  3\n",
       "Business Analyst           3\n",
       "Software Engineer          3\n",
       "Enterprise Architect       3\n",
       "Web Developer              2\n",
       "DBA                        2\n",
       "Head of Product            2\n",
       "Name: Job_Role_Other, dtype: int64"
      ]
     },
     "metadata": {},
     "output_type": "display_data"
    },
    {
     "name": "stdout",
     "output_type": "stream",
     "text": [
      "----------------------------------------Job_Role---------------------------------------- - "
     ]
    },
    {
     "data": {
      "text/plain": [
       "Full-Stack Developer             846\n",
       "Back-End Developer               511\n",
       "Technical Team Leader            316\n",
       "Front-End Developer              299\n",
       "Project Manager                  236\n",
       "Data Scientist/Data Engineer     160\n",
       "Product Owner/Product Manager    147\n",
       "Mobile Apps Developer            126\n",
       "UX/UI Designer                   120\n",
       "CTO                              105\n",
       "Name: Job_Role, dtype: int64"
      ]
     },
     "metadata": {},
     "output_type": "display_data"
    },
    {
     "name": "stdout",
     "output_type": "stream",
     "text": [
      "----------------------------------------Employer_Industry---------------------------------------- - "
     ]
    },
    {
     "data": {
      "text/plain": [
       "Consulting                                  436\n",
       "Software development - other                377\n",
       "Financial and banking                       337\n",
       "Information technology                      282\n",
       "Cloud-based solutions or services           270\n",
       "Software as a service (saas) development    248\n",
       "Retail or ecommerce                         205\n",
       "Web development or design                   141\n",
       "Telecommunications                          124\n",
       "NaN                                         111\n",
       "Name: Employer_Industry, dtype: int64"
      ]
     },
     "metadata": {},
     "output_type": "display_data"
    },
    {
     "name": "stdout",
     "output_type": "stream",
     "text": [
      "----------------------------------------Employer_Industry_Other---------------------------------------- - "
     ]
    },
    {
     "data": {
      "text/plain": [
       "NaN                                            3296\n",
       "Insurance                                         7\n",
       "Gambling                                          3\n",
       "Sports                                            2\n",
       "Automotive                                        2\n",
       "Services                                          2\n",
       "Contact Center                                    2\n",
       "Drinking Water production, Águas do Algarve       1\n",
       "Insuretech                                        1\n",
       "Online Betting & Gaming                           1\n",
       "Name: Employer_Industry_Other, dtype: int64"
      ]
     },
     "metadata": {},
     "output_type": "display_data"
    },
    {
     "name": "stdout",
     "output_type": "stream",
     "text": [
      "----------------------------------------Employer_Org_Type---------------------------------------- - "
     ]
    },
    {
     "data": {
      "text/plain": [
       "Corporate                                                                    1097\n",
       "SME - Small or Medium Enterprise (personnel <250)                            1018\n",
       "Consulting Business                                                           350\n",
       "Startup (new business venture)                                                319\n",
       "Scale-up (fast growing company aka \"unicorn\")                                 245\n",
       "Outsourcing                                                                   160\n",
       "Nearshore (outsource business processes to companies in a nearby country)     141\n",
       "NaN                                                                            41\n",
       "Name: Employer_Org_Type, dtype: int64"
      ]
     },
     "metadata": {},
     "output_type": "display_data"
    },
    {
     "name": "stdout",
     "output_type": "stream",
     "text": [
      "----------------------------------------Employer_Org_Type_Other---------------------------------------- - "
     ]
    },
    {
     "data": {
      "text/plain": [
       "NaN                                                         3330\n",
       "University                                                     4\n",
       "Government                                                     2\n",
       "Freelance                                                      2\n",
       "It is a foundation around an open source based solution.       1\n",
       "Unemployed                                                     1\n",
       "Highschool                                                     1\n",
       "gov                                                            1\n",
       "Micro Company                                                  1\n",
       "Military                                                       1\n",
       "Name: Employer_Org_Type_Other, dtype: int64"
      ]
     },
     "metadata": {},
     "output_type": "display_data"
    },
    {
     "name": "stdout",
     "output_type": "stream",
     "text": [
      "----------------------------------------Employer_Size---------------------------------------- - "
     ]
    },
    {
     "data": {
      "text/plain": [
       "100 - 499 employees          784\n",
       "20 - 99 employees            711\n",
       "1000 - 4.999 employees       554\n",
       "More than 5.000 employees    482\n",
       "500 - 999 employees          300\n",
       "Less than 10 employees       279\n",
       "10 - 19 employees            261\n",
       "Name: Employer_Size, dtype: int64"
      ]
     },
     "metadata": {},
     "output_type": "display_data"
    },
    {
     "name": "stdout",
     "output_type": "stream",
     "text": [
      "----------------------------------------Language_JavaScript---------------------------------------- - "
     ]
    },
    {
     "data": {
      "text/plain": [
       "JavaScript    1720\n",
       "NaN           1651\n",
       "Name: Language_JavaScript, dtype: int64"
      ]
     },
     "metadata": {},
     "output_type": "display_data"
    },
    {
     "name": "stdout",
     "output_type": "stream",
     "text": [
      "----------------------------------------Language_Bash/Shell/PowerShell---------------------------------------- - "
     ]
    },
    {
     "data": {
      "text/plain": [
       "NaN                      2759\n",
       "Bash/Shell/PowerShell     612\n",
       "Name: Language_Bash/Shell/PowerShell, dtype: int64"
      ]
     },
     "metadata": {},
     "output_type": "display_data"
    },
    {
     "name": "stdout",
     "output_type": "stream",
     "text": [
      "----------------------------------------Language_SQL---------------------------------------- - "
     ]
    },
    {
     "data": {
      "text/plain": [
       "NaN    1816\n",
       "SQL    1555\n",
       "Name: Language_SQL, dtype: int64"
      ]
     },
     "metadata": {},
     "output_type": "display_data"
    },
    {
     "name": "stdout",
     "output_type": "stream",
     "text": [
      "----------------------------------------Language_Java---------------------------------------- - "
     ]
    },
    {
     "data": {
      "text/plain": [
       "NaN     2577\n",
       "Java     794\n",
       "Name: Language_Java, dtype: int64"
      ]
     },
     "metadata": {},
     "output_type": "display_data"
    },
    {
     "name": "stdout",
     "output_type": "stream",
     "text": [
      "----------------------------------------Language_C#---------------------------------------- - "
     ]
    },
    {
     "data": {
      "text/plain": [
       "NaN    2622\n",
       "C#      749\n",
       "Name: Language_C#, dtype: int64"
      ]
     },
     "metadata": {},
     "output_type": "display_data"
    },
    {
     "name": "stdout",
     "output_type": "stream",
     "text": [
      "----------------------------------------Language_Python---------------------------------------- - "
     ]
    },
    {
     "data": {
      "text/plain": [
       "NaN       2754\n",
       "Python     617\n",
       "Name: Language_Python, dtype: int64"
      ]
     },
     "metadata": {},
     "output_type": "display_data"
    },
    {
     "name": "stdout",
     "output_type": "stream",
     "text": [
      "----------------------------------------Language_PHP---------------------------------------- - "
     ]
    },
    {
     "data": {
      "text/plain": [
       "NaN    2901\n",
       "PHP     470\n",
       "Name: Language_PHP, dtype: int64"
      ]
     },
     "metadata": {},
     "output_type": "display_data"
    },
    {
     "name": "stdout",
     "output_type": "stream",
     "text": [
      "----------------------------------------Language_C++---------------------------------------- - "
     ]
    },
    {
     "data": {
      "text/plain": [
       "NaN    3194\n",
       "C++     177\n",
       "Name: Language_C++, dtype: int64"
      ]
     },
     "metadata": {},
     "output_type": "display_data"
    },
    {
     "name": "stdout",
     "output_type": "stream",
     "text": [
      "----------------------------------------Language_C---------------------------------------- - "
     ]
    },
    {
     "data": {
      "text/plain": [
       "NaN    3264\n",
       "C       107\n",
       "Name: Language_C, dtype: int64"
      ]
     },
     "metadata": {},
     "output_type": "display_data"
    },
    {
     "name": "stdout",
     "output_type": "stream",
     "text": [
      "----------------------------------------Language_TypeScript---------------------------------------- - "
     ]
    },
    {
     "data": {
      "text/plain": [
       "NaN           2672\n",
       "TypeScript     699\n",
       "Name: Language_TypeScript, dtype: int64"
      ]
     },
     "metadata": {},
     "output_type": "display_data"
    },
    {
     "name": "stdout",
     "output_type": "stream",
     "text": [
      "----------------------------------------Language_Ruby---------------------------------------- - "
     ]
    },
    {
     "data": {
      "text/plain": [
       "NaN     3213\n",
       "Ruby     158\n",
       "Name: Language_Ruby, dtype: int64"
      ]
     },
     "metadata": {},
     "output_type": "display_data"
    },
    {
     "name": "stdout",
     "output_type": "stream",
     "text": [
      "----------------------------------------Language_Swift---------------------------------------- - "
     ]
    },
    {
     "data": {
      "text/plain": [
       "NaN      3253\n",
       "Swift     118\n",
       "Name: Language_Swift, dtype: int64"
      ]
     },
     "metadata": {},
     "output_type": "display_data"
    },
    {
     "name": "stdout",
     "output_type": "stream",
     "text": [
      "----------------------------------------Language_Objective-C---------------------------------------- - "
     ]
    },
    {
     "data": {
      "text/plain": [
       "NaN            3314\n",
       "Objective-C      57\n",
       "Name: Language_Objective-C, dtype: int64"
      ]
     },
     "metadata": {},
     "output_type": "display_data"
    },
    {
     "name": "stdout",
     "output_type": "stream",
     "text": [
      "----------------------------------------Language_VB.NET---------------------------------------- - "
     ]
    },
    {
     "data": {
      "text/plain": [
       "NaN       3263\n",
       "VB.NET     108\n",
       "Name: Language_VB.NET, dtype: int64"
      ]
     },
     "metadata": {},
     "output_type": "display_data"
    },
    {
     "name": "stdout",
     "output_type": "stream",
     "text": [
      "----------------------------------------Language_Assembly---------------------------------------- - "
     ]
    },
    {
     "data": {
      "text/plain": [
       "NaN         3360\n",
       "Assembly      11\n",
       "Name: Language_Assembly, dtype: int64"
      ]
     },
     "metadata": {},
     "output_type": "display_data"
    },
    {
     "name": "stdout",
     "output_type": "stream",
     "text": [
      "----------------------------------------Language_R---------------------------------------- - "
     ]
    },
    {
     "data": {
      "text/plain": [
       "NaN    3307\n",
       "R        64\n",
       "Name: Language_R, dtype: int64"
      ]
     },
     "metadata": {},
     "output_type": "display_data"
    },
    {
     "name": "stdout",
     "output_type": "stream",
     "text": [
      "----------------------------------------Language_Perl---------------------------------------- - "
     ]
    },
    {
     "data": {
      "text/plain": [
       "NaN     3343\n",
       "Perl      28\n",
       "Name: Language_Perl, dtype: int64"
      ]
     },
     "metadata": {},
     "output_type": "display_data"
    },
    {
     "name": "stdout",
     "output_type": "stream",
     "text": [
      "----------------------------------------Language_VBA---------------------------------------- - "
     ]
    },
    {
     "data": {
      "text/plain": [
       "NaN    3275\n",
       "VBA      96\n",
       "Name: Language_VBA, dtype: int64"
      ]
     },
     "metadata": {},
     "output_type": "display_data"
    },
    {
     "name": "stdout",
     "output_type": "stream",
     "text": [
      "----------------------------------------Language_Matlab---------------------------------------- - "
     ]
    },
    {
     "data": {
      "text/plain": [
       "NaN       3350\n",
       "Matlab      21\n",
       "Name: Language_Matlab, dtype: int64"
      ]
     },
     "metadata": {},
     "output_type": "display_data"
    },
    {
     "name": "stdout",
     "output_type": "stream",
     "text": [
      "----------------------------------------Language_Go---------------------------------------- - "
     ]
    },
    {
     "data": {
      "text/plain": [
       "NaN    3242\n",
       "Go      129\n",
       "Name: Language_Go, dtype: int64"
      ]
     },
     "metadata": {},
     "output_type": "display_data"
    },
    {
     "name": "stdout",
     "output_type": "stream",
     "text": [
      "----------------------------------------Language_Scala---------------------------------------- - "
     ]
    },
    {
     "data": {
      "text/plain": [
       "NaN      3303\n",
       "Scala      68\n",
       "Name: Language_Scala, dtype: int64"
      ]
     },
     "metadata": {},
     "output_type": "display_data"
    },
    {
     "name": "stdout",
     "output_type": "stream",
     "text": [
      "----------------------------------------Language_Groovy---------------------------------------- - "
     ]
    },
    {
     "data": {
      "text/plain": [
       "NaN       3291\n",
       "Groovy      80\n",
       "Name: Language_Groovy, dtype: int64"
      ]
     },
     "metadata": {},
     "output_type": "display_data"
    },
    {
     "name": "stdout",
     "output_type": "stream",
     "text": [
      "----------------------------------------Language_Coffee Script---------------------------------------- - "
     ]
    },
    {
     "data": {
      "text/plain": [
       "NaN              3359\n",
       "Coffee Script      12\n",
       "Name: Language_Coffee Script, dtype: int64"
      ]
     },
     "metadata": {},
     "output_type": "display_data"
    },
    {
     "name": "stdout",
     "output_type": "stream",
     "text": [
      "----------------------------------------Language_Visual Basic 6---------------------------------------- - "
     ]
    },
    {
     "data": {
      "text/plain": [
       "NaN               3327\n",
       "Visual Basic 6      44\n",
       "Name: Language_Visual Basic 6, dtype: int64"
      ]
     },
     "metadata": {},
     "output_type": "display_data"
    },
    {
     "name": "stdout",
     "output_type": "stream",
     "text": [
      "----------------------------------------Language_Lua---------------------------------------- - "
     ]
    },
    {
     "data": {
      "text/plain": [
       "NaN    3354\n",
       "Lua      17\n",
       "Name: Language_Lua, dtype: int64"
      ]
     },
     "metadata": {},
     "output_type": "display_data"
    },
    {
     "name": "stdout",
     "output_type": "stream",
     "text": [
      "----------------------------------------Language_Haskell---------------------------------------- - "
     ]
    },
    {
     "data": {
      "text/plain": [
       "NaN        3368\n",
       "Haskell       3\n",
       "Name: Language_Haskell, dtype: int64"
      ]
     },
     "metadata": {},
     "output_type": "display_data"
    },
    {
     "name": "stdout",
     "output_type": "stream",
     "text": [
      "----------------------------------------Language_HTML/CSS---------------------------------------- - "
     ]
    },
    {
     "data": {
      "text/plain": [
       "NaN         2161\n",
       "HTML/CSS    1210\n",
       "Name: Language_HTML/CSS, dtype: int64"
      ]
     },
     "metadata": {},
     "output_type": "display_data"
    },
    {
     "name": "stdout",
     "output_type": "stream",
     "text": [
      "----------------------------------------Language_Kotlin---------------------------------------- - "
     ]
    },
    {
     "data": {
      "text/plain": [
       "NaN       3191\n",
       "Kotlin     180\n",
       "Name: Language_Kotlin, dtype: int64"
      ]
     },
     "metadata": {},
     "output_type": "display_data"
    },
    {
     "name": "stdout",
     "output_type": "stream",
     "text": [
      "----------------------------------------Language_Rust---------------------------------------- - "
     ]
    },
    {
     "data": {
      "text/plain": [
       "NaN     3348\n",
       "Rust      23\n",
       "Name: Language_Rust, dtype: int64"
      ]
     },
     "metadata": {},
     "output_type": "display_data"
    },
    {
     "name": "stdout",
     "output_type": "stream",
     "text": [
      "----------------------------------------Language_Elixir---------------------------------------- - "
     ]
    },
    {
     "data": {
      "text/plain": [
       "NaN       3338\n",
       "Elixir      33\n",
       "Name: Language_Elixir, dtype: int64"
      ]
     },
     "metadata": {},
     "output_type": "display_data"
    },
    {
     "name": "stdout",
     "output_type": "stream",
     "text": [
      "----------------------------------------Language_Clojure---------------------------------------- - "
     ]
    },
    {
     "data": {
      "text/plain": [
       "NaN        3363\n",
       "Clojure       8\n",
       "Name: Language_Clojure, dtype: int64"
      ]
     },
     "metadata": {},
     "output_type": "display_data"
    },
    {
     "name": "stdout",
     "output_type": "stream",
     "text": [
      "----------------------------------------Language_WebAssembly---------------------------------------- - "
     ]
    },
    {
     "data": {
      "text/plain": [
       "NaN            3351\n",
       "WebAssembly      20\n",
       "Name: Language_WebAssembly, dtype: int64"
      ]
     },
     "metadata": {},
     "output_type": "display_data"
    },
    {
     "name": "stdout",
     "output_type": "stream",
     "text": [
      "----------------------------------------Language_Dart---------------------------------------- - "
     ]
    },
    {
     "data": {
      "text/plain": [
       "NaN     3328\n",
       "Dart      43\n",
       "Name: Language_Dart, dtype: int64"
      ]
     },
     "metadata": {},
     "output_type": "display_data"
    },
    {
     "name": "stdout",
     "output_type": "stream",
     "text": [
      "----------------------------------------Language_Languages_N/A---------------------------------------- - "
     ]
    },
    {
     "data": {
      "text/plain": [
       "NaN    3371\n",
       "Name: Language_Languages_N/A, dtype: int64"
      ]
     },
     "metadata": {},
     "output_type": "display_data"
    },
    {
     "name": "stdout",
     "output_type": "stream",
     "text": [
      "----------------------------------------Language_Languages_Other---------------------------------------- - "
     ]
    },
    {
     "data": {
      "text/plain": [
       "NaN           3168\n",
       "Outsystems      28\n",
       "OutSystems      13\n",
       "Salesforce       8\n",
       "React            7\n",
       "RPG              6\n",
       "Apex             6\n",
       "SAS              5\n",
       "RPGLE            5\n",
       "Cobol            4\n",
       "Name: Language_Languages_Other, dtype: int64"
      ]
     },
     "metadata": {},
     "output_type": "display_data"
    },
    {
     "name": "stdout",
     "output_type": "stream",
     "text": [
      "----------------------------------------Framework_jQuery---------------------------------------- - "
     ]
    },
    {
     "data": {
      "text/plain": [
       "NaN       2605\n",
       "jQuery     766\n",
       "Name: Framework_jQuery, dtype: int64"
      ]
     },
     "metadata": {},
     "output_type": "display_data"
    },
    {
     "name": "stdout",
     "output_type": "stream",
     "text": [
      "----------------------------------------Framework_.NET---------------------------------------- - "
     ]
    },
    {
     "data": {
      "text/plain": [
       "NaN     2599\n",
       ".NET     772\n",
       "Name: Framework_.NET, dtype: int64"
      ]
     },
     "metadata": {},
     "output_type": "display_data"
    },
    {
     "name": "stdout",
     "output_type": "stream",
     "text": [
      "----------------------------------------Framework_Angular/Angular.js---------------------------------------- - "
     ]
    },
    {
     "data": {
      "text/plain": [
       "NaN                   2799\n",
       "Angular/Angular.js     572\n",
       "Name: Framework_Angular/Angular.js, dtype: int64"
      ]
     },
     "metadata": {},
     "output_type": "display_data"
    },
    {
     "name": "stdout",
     "output_type": "stream",
     "text": [
      "----------------------------------------Framework_Ruby on Rails---------------------------------------- - "
     ]
    },
    {
     "data": {
      "text/plain": [
       "NaN              3226\n",
       "Ruby on Rails     145\n",
       "Name: Framework_Ruby on Rails, dtype: int64"
      ]
     },
     "metadata": {},
     "output_type": "display_data"
    },
    {
     "name": "stdout",
     "output_type": "stream",
     "text": [
      "----------------------------------------Framework_React---------------------------------------- - "
     ]
    },
    {
     "data": {
      "text/plain": [
       "NaN      2615\n",
       "React     756\n",
       "Name: Framework_React, dtype: int64"
      ]
     },
     "metadata": {},
     "output_type": "display_data"
    },
    {
     "name": "stdout",
     "output_type": "stream",
     "text": [
      "----------------------------------------Framework_Django---------------------------------------- - "
     ]
    },
    {
     "data": {
      "text/plain": [
       "NaN       3231\n",
       "Django     140\n",
       "Name: Framework_Django, dtype: int64"
      ]
     },
     "metadata": {},
     "output_type": "display_data"
    },
    {
     "name": "stdout",
     "output_type": "stream",
     "text": [
      "----------------------------------------Framework_Laravel---------------------------------------- - "
     ]
    },
    {
     "data": {
      "text/plain": [
       "NaN        3178\n",
       "Laravel     193\n",
       "Name: Framework_Laravel, dtype: int64"
      ]
     },
     "metadata": {},
     "output_type": "display_data"
    },
    {
     "name": "stdout",
     "output_type": "stream",
     "text": [
      "----------------------------------------Framework_Spring---------------------------------------- - "
     ]
    },
    {
     "data": {
      "text/plain": [
       "NaN       2967\n",
       "Spring     404\n",
       "Name: Framework_Spring, dtype: int64"
      ]
     },
     "metadata": {},
     "output_type": "display_data"
    },
    {
     "name": "stdout",
     "output_type": "stream",
     "text": [
      "----------------------------------------Framework_Vue.js---------------------------------------- - "
     ]
    },
    {
     "data": {
      "text/plain": [
       "NaN       3093\n",
       "Vue.js     278\n",
       "Name: Framework_Vue.js, dtype: int64"
      ]
     },
     "metadata": {},
     "output_type": "display_data"
    },
    {
     "name": "stdout",
     "output_type": "stream",
     "text": [
      "----------------------------------------Framework_Express---------------------------------------- - "
     ]
    },
    {
     "data": {
      "text/plain": [
       "NaN        3115\n",
       "Express     256\n",
       "Name: Framework_Express, dtype: int64"
      ]
     },
     "metadata": {},
     "output_type": "display_data"
    },
    {
     "name": "stdout",
     "output_type": "stream",
     "text": [
      "----------------------------------------Framework_Meteor---------------------------------------- - "
     ]
    },
    {
     "data": {
      "text/plain": [
       "NaN       3364\n",
       "Meteor       7\n",
       "Name: Framework_Meteor, dtype: int64"
      ]
     },
     "metadata": {},
     "output_type": "display_data"
    },
    {
     "name": "stdout",
     "output_type": "stream",
     "text": [
      "----------------------------------------Framework_Flask---------------------------------------- - "
     ]
    },
    {
     "data": {
      "text/plain": [
       "NaN      3259\n",
       "Flask     112\n",
       "Name: Framework_Flask, dtype: int64"
      ]
     },
     "metadata": {},
     "output_type": "display_data"
    },
    {
     "name": "stdout",
     "output_type": "stream",
     "text": [
      "----------------------------------------Framework_Ember.js---------------------------------------- - "
     ]
    },
    {
     "data": {
      "text/plain": [
       "NaN         3352\n",
       "Ember.js      19\n",
       "Name: Framework_Ember.js, dtype: int64"
      ]
     },
     "metadata": {},
     "output_type": "display_data"
    },
    {
     "name": "stdout",
     "output_type": "stream",
     "text": [
      "----------------------------------------Framework_Drupal---------------------------------------- - "
     ]
    },
    {
     "data": {
      "text/plain": [
       "NaN       3321\n",
       "Drupal      50\n",
       "Name: Framework_Drupal, dtype: int64"
      ]
     },
     "metadata": {},
     "output_type": "display_data"
    },
    {
     "name": "stdout",
     "output_type": "stream",
     "text": [
      "----------------------------------------Framework_OutSystems---------------------------------------- - "
     ]
    },
    {
     "data": {
      "text/plain": [
       "NaN           3319\n",
       "Outsystems      52\n",
       "Name: Framework_OutSystems, dtype: int64"
      ]
     },
     "metadata": {},
     "output_type": "display_data"
    },
    {
     "name": "stdout",
     "output_type": "stream",
     "text": [
      "----------------------------------------Framework_Framework_N/A---------------------------------------- - "
     ]
    },
    {
     "data": {
      "text/plain": [
       "NaN    3371\n",
       "Name: Framework_Framework_N/A, dtype: int64"
      ]
     },
     "metadata": {},
     "output_type": "display_data"
    },
    {
     "name": "stdout",
     "output_type": "stream",
     "text": [
      "----------------------------------------Framework_Framework_Other---------------------------------------- - "
     ]
    },
    {
     "data": {
      "text/plain": [
       "NaN           3067\n",
       "Outsystems      15\n",
       "Symfony         14\n",
       "Quarkus         11\n",
       "Flutter         10\n",
       "Phoenix          7\n",
       "Salesforce       6\n",
       "None             6\n",
       "OutSystems       6\n",
       "Android          6\n",
       "Name: Framework_Framework_Other, dtype: int64"
      ]
     },
     "metadata": {},
     "output_type": "display_data"
    },
    {
     "name": "stdout",
     "output_type": "stream",
     "text": [
      "----------------------------------------Contractor_Avg_Project---------------------------------------- - "
     ]
    },
    {
     "data": {
      "text/plain": [
       "NaN    3166\n",
       "12       90\n",
       "6        33\n",
       "3        19\n",
       "2        14\n",
       ">24      13\n",
       "24        9\n",
       "1         9\n",
       "9         6\n",
       "8         3\n",
       "Name: Contractor_Avg_Project, dtype: int64"
      ]
     },
     "metadata": {},
     "output_type": "display_data"
    },
    {
     "name": "stdout",
     "output_type": "stream",
     "text": [
      "----------------------------------------Contractor_Avg_Project_Intervals---------------------------------------- - "
     ]
    },
    {
     "data": {
      "text/plain": [
       "NaN                    3166\n",
       "7 to 12 months          101\n",
       "Less than 3 months       42\n",
       "4 to 6 months            38\n",
       "More than 24 months      13\n",
       "13 to 24 monthts         11\n",
       "Name: Contractor_Avg_Project_Intervals, dtype: int64"
      ]
     },
     "metadata": {},
     "output_type": "display_data"
    },
    {
     "name": "stdout",
     "output_type": "stream",
     "text": [
      "----------------------------------------Contractor_Avg_Hour_Rate---------------------------------------- - "
     ]
    },
    {
     "data": {
      "text/plain": [
       "NaN     3166\n",
       "30.0      22\n",
       "25.0      17\n",
       "40.0      17\n",
       "35.0      15\n",
       "20.0      14\n",
       "10.0      10\n",
       "50.0      10\n",
       "15.0       6\n",
       "60.0       6\n",
       "Name: Contractor_Avg_Hour_Rate, dtype: int64"
      ]
     },
     "metadata": {},
     "output_type": "display_data"
    },
    {
     "name": "stdout",
     "output_type": "stream",
     "text": [
      "----------------------------------------Contractor_Avg_Annual_Salary---------------------------------------- - "
     ]
    },
    {
     "data": {
      "text/plain": [
       "NaN        3166\n",
       "48000.0      22\n",
       "40000.0      17\n",
       "64000.0      17\n",
       "56000.0      15\n",
       "32000.0      14\n",
       "16000.0      10\n",
       "80000.0      10\n",
       "96000.0       6\n",
       "24000.0       6\n",
       "Name: Contractor_Avg_Annual_Salary, dtype: int64"
      ]
     },
     "metadata": {},
     "output_type": "display_data"
    },
    {
     "name": "stdout",
     "output_type": "stream",
     "text": [
      "----------------------------------------Perm_Current_Company_how_long---------------------------------------- - "
     ]
    },
    {
     "data": {
      "text/plain": [
       "Between 1 - 3 years    1373\n",
       "More than 3 years      1022\n",
       "Less than one year      771\n",
       "NaN                     205\n",
       "Name: Perm_Current_Company_how_long, dtype: int64"
      ]
     },
     "metadata": {},
     "output_type": "display_data"
    },
    {
     "name": "stdout",
     "output_type": "stream",
     "text": [
      "----------------------------------------Perm_GAS---------------------------------------- - "
     ]
    },
    {
     "data": {
      "text/plain": [
       "€15.000 - €20.000    544\n",
       "€20.000 - €25.000    456\n",
       "< €15.000            433\n",
       "€25.000 - €30.000    378\n",
       "€30.000 - €35.000    307\n",
       "€35.000 - €40.000    269\n",
       "NaN                  205\n",
       "€40.000 - €45.000    202\n",
       "€45.000 - €50.000    154\n",
       "€50.000 - €55.000    122\n",
       "Name: Perm_GAS, dtype: int64"
      ]
     },
     "metadata": {},
     "output_type": "display_data"
    },
    {
     "name": "stdout",
     "output_type": "stream",
     "text": [
      "----------------------------------------Perm_GAS_Avg---------------------------------------- - "
     ]
    },
    {
     "data": {
      "text/plain": [
       "17500.0    544\n",
       "22500.0    456\n",
       "12500.0    433\n",
       "27500.0    378\n",
       "32500.0    307\n",
       "37500.0    269\n",
       "NaN        205\n",
       "42500.0    202\n",
       "47500.0    154\n",
       "52500.0    122\n",
       "Name: Perm_GAS_Avg, dtype: int64"
      ]
     },
     "metadata": {},
     "output_type": "display_data"
    },
    {
     "name": "stdout",
     "output_type": "stream",
     "text": [
      "----------------------------------------Perm_GAS_Low_Limit---------------------------------------- - "
     ]
    },
    {
     "data": {
      "text/plain": [
       "15000.0    544\n",
       "20000.0    456\n",
       "0.0        433\n",
       "25000.0    378\n",
       "30000.0    307\n",
       "35000.0    269\n",
       "NaN        205\n",
       "40000.0    202\n",
       "45000.0    154\n",
       "50000.0    122\n",
       "Name: Perm_GAS_Low_Limit, dtype: int64"
      ]
     },
     "metadata": {},
     "output_type": "display_data"
    },
    {
     "name": "stdout",
     "output_type": "stream",
     "text": [
      "----------------------------------------Perm_GAS_High_Limit---------------------------------------- - "
     ]
    },
    {
     "data": {
      "text/plain": [
       "20000.0    544\n",
       "25000.0    456\n",
       "15000.0    433\n",
       "30000.0    378\n",
       "35000.0    307\n",
       "40000.0    269\n",
       "NaN        205\n",
       "45000.0    202\n",
       "50000.0    154\n",
       "55000.0    122\n",
       "Name: Perm_GAS_High_Limit, dtype: int64"
      ]
     },
     "metadata": {},
     "output_type": "display_data"
    },
    {
     "name": "stdout",
     "output_type": "stream",
     "text": [
      "----------------------------------------Avg_Salary---------------------------------------- - "
     ]
    },
    {
     "data": {
      "text/plain": [
       "17500    544\n",
       "22500    456\n",
       "12500    433\n",
       "27500    378\n",
       "32500    307\n",
       "37500    269\n",
       "42500    202\n",
       "47500    154\n",
       "52500    122\n",
       "57500     88\n",
       "Name: Avg_Salary, dtype: int64"
      ]
     },
     "metadata": {},
     "output_type": "display_data"
    },
    {
     "name": "stdout",
     "output_type": "stream",
     "text": [
      "----------------------------------------Salary_Change---------------------------------------- - "
     ]
    },
    {
     "data": {
      "text/plain": [
       "Hasn't changed             1413\n",
       "]5%,15%]                    649\n",
       "]0%, 5%]                    638\n",
       "Increased more than 15%     470\n",
       "Decreased more than 15%      91\n",
       "[-15%, -5%[                  63\n",
       "[-5%, 0%[                    46\n",
       "NaN                           1\n",
       "Name: Salary_Change, dtype: int64"
      ]
     },
     "metadata": {},
     "output_type": "display_data"
    },
    {
     "name": "stdout",
     "output_type": "stream",
     "text": [
      "----------------------------------------Salary_Fairness---------------------------------------- - "
     ]
    },
    {
     "data": {
      "text/plain": [
       "5    752\n",
       "4    679\n",
       "3    565\n",
       "6    502\n",
       "2    381\n",
       "1    252\n",
       "7    240\n",
       "Name: Salary_Fairness, dtype: int64"
      ]
     },
     "metadata": {},
     "output_type": "display_data"
    },
    {
     "name": "stdout",
     "output_type": "stream",
     "text": [
      "----------------------------------------Changing_Jobs_next_6_months---------------------------------------- - "
     ]
    },
    {
     "data": {
      "text/plain": [
       "3.0    1068\n",
       "1.0     696\n",
       "5.0     544\n",
       "4.0     535\n",
       "2.0     526\n",
       "NaN       2\n",
       "Name: Changing_Jobs_next_6_months, dtype: int64"
      ]
     },
     "metadata": {},
     "output_type": "display_data"
    },
    {
     "name": "stdout",
     "output_type": "stream",
     "text": [
      "----------------------------------------Job_Motivator_Work_life_balance---------------------------------------- - "
     ]
    },
    {
     "data": {
      "text/plain": [
       "7    1718\n",
       "6    1008\n",
       "5     470\n",
       "4     137\n",
       "3      26\n",
       "2      10\n",
       "1       2\n",
       "Name: Job_Motivator_Work_life_balance, dtype: int64"
      ]
     },
     "metadata": {},
     "output_type": "display_data"
    },
    {
     "name": "stdout",
     "output_type": "stream",
     "text": [
      "----------------------------------------Job_Motivator_Compensation_and_benefits---------------------------------------- - "
     ]
    },
    {
     "data": {
      "text/plain": [
       "6    1224\n",
       "7    1165\n",
       "5     755\n",
       "4     182\n",
       "3      34\n",
       "2       8\n",
       "1       3\n",
       "Name: Job_Motivator_Compensation_and_benefits, dtype: int64"
      ]
     },
     "metadata": {},
     "output_type": "display_data"
    },
    {
     "name": "stdout",
     "output_type": "stream",
     "text": [
      "----------------------------------------Job_Motivator_Training/Development_programs_at_work---------------------------------------- - "
     ]
    },
    {
     "data": {
      "text/plain": [
       "5    1002\n",
       "6     884\n",
       "7     812\n",
       "4     432\n",
       "3     153\n",
       "2      62\n",
       "1      26\n",
       "Name: Job_Motivator_Training/Development_programs_at_work, dtype: int64"
      ]
     },
     "metadata": {},
     "output_type": "display_data"
    },
    {
     "name": "stdout",
     "output_type": "stream",
     "text": [
      "----------------------------------------Job_Motivator_Career_growth_opportunities---------------------------------------- - "
     ]
    },
    {
     "data": {
      "text/plain": [
       "7    1247\n",
       "6    1151\n",
       "5     726\n",
       "4     186\n",
       "3      37\n",
       "1      13\n",
       "2      11\n",
       "Name: Job_Motivator_Career_growth_opportunities, dtype: int64"
      ]
     },
     "metadata": {},
     "output_type": "display_data"
    },
    {
     "name": "stdout",
     "output_type": "stream",
     "text": [
      "----------------------------------------Job_Motivator_Remote_working---------------------------------------- - "
     ]
    },
    {
     "data": {
      "text/plain": [
       "5    858\n",
       "6    811\n",
       "7    807\n",
       "4    574\n",
       "3    200\n",
       "2     71\n",
       "1     50\n",
       "Name: Job_Motivator_Remote_working, dtype: int64"
      ]
     },
     "metadata": {},
     "output_type": "display_data"
    },
    {
     "name": "stdout",
     "output_type": "stream",
     "text": [
      "----------------------------------------Job_Motivator_Flexible_schedule---------------------------------------- - "
     ]
    },
    {
     "data": {
      "text/plain": [
       "7    1085\n",
       "6     973\n",
       "5     765\n",
       "4     378\n",
       "3     118\n",
       "2      34\n",
       "1      18\n",
       "Name: Job_Motivator_Flexible_schedule, dtype: int64"
      ]
     },
     "metadata": {},
     "output_type": "display_data"
    },
    {
     "name": "stdout",
     "output_type": "stream",
     "text": [
      "----------------------------------------Job_Motivator_Company_culture---------------------------------------- - "
     ]
    },
    {
     "data": {
      "text/plain": [
       "6    1029\n",
       "7     975\n",
       "5     812\n",
       "4     391\n",
       "3     105\n",
       "1      35\n",
       "2      24\n",
       "Name: Job_Motivator_Company_culture, dtype: int64"
      ]
     },
     "metadata": {},
     "output_type": "display_data"
    },
    {
     "name": "stdout",
     "output_type": "stream",
     "text": [
      "----------------------------------------Job_Motivator_The_technologies_I'm_working_with---------------------------------------- - "
     ]
    },
    {
     "data": {
      "text/plain": [
       "6    972\n",
       "5    872\n",
       "7    829\n",
       "4    458\n",
       "3    138\n",
       "2     53\n",
       "1     49\n",
       "Name: Job_Motivator_The_technologies_I'm_working_with, dtype: int64"
      ]
     },
     "metadata": {},
     "output_type": "display_data"
    },
    {
     "name": "stdout",
     "output_type": "stream",
     "text": [
      "----------------------------------------Job_Motivator_Versatility/Variety_of_projects---------------------------------------- - "
     ]
    },
    {
     "data": {
      "text/plain": [
       "5    1141\n",
       "6     794\n",
       "4     662\n",
       "7     442\n",
       "3     220\n",
       "2      70\n",
       "1      42\n",
       "Name: Job_Motivator_Versatility/Variety_of_projects, dtype: int64"
      ]
     },
     "metadata": {},
     "output_type": "display_data"
    },
    {
     "name": "stdout",
     "output_type": "stream",
     "text": [
      "----------------------------------------Job_Motivator_Freedom_to_choose_the_clients_and/or_projects---------------------------------------- - "
     ]
    },
    {
     "data": {
      "text/plain": [
       "4    933\n",
       "5    871\n",
       "6    482\n",
       "3    447\n",
       "7    274\n",
       "2    210\n",
       "1    154\n",
       "Name: Job_Motivator_Freedom_to_choose_the_clients_and/or_projects, dtype: int64"
      ]
     },
     "metadata": {},
     "output_type": "display_data"
    },
    {
     "name": "stdout",
     "output_type": "stream",
     "text": [
      "----------------------------------------Job_Motivator_Being_autonomous_at_work---------------------------------------- - "
     ]
    },
    {
     "data": {
      "text/plain": [
       "6    1170\n",
       "5     925\n",
       "7     864\n",
       "4     327\n",
       "3      59\n",
       "2      17\n",
       "1       9\n",
       "Name: Job_Motivator_Being_autonomous_at_work, dtype: int64"
      ]
     },
     "metadata": {},
     "output_type": "display_data"
    },
    {
     "name": "stdout",
     "output_type": "stream",
     "text": [
      "----------------------------------------Job_Motivator_How_widely_used_or_impactful_the_product/service_I_work_on_is---------------------------------------- - "
     ]
    },
    {
     "data": {
      "text/plain": [
       "5    1098\n",
       "6     890\n",
       "4     562\n",
       "7     529\n",
       "3     180\n",
       "2      63\n",
       "1      49\n",
       "Name: Job_Motivator_How_widely_used_or_impactful_the_product/service_I_work_on_is, dtype: int64"
      ]
     },
     "metadata": {},
     "output_type": "display_data"
    },
    {
     "name": "stdout",
     "output_type": "stream",
     "text": [
      "----------------------------------------Job_Motivator_Environmentally_friendly/responsible_work_practice---------------------------------------- - "
     ]
    },
    {
     "data": {
      "text/plain": [
       "6    1025\n",
       "5     848\n",
       "7     773\n",
       "4     432\n",
       "3     152\n",
       "1      71\n",
       "2      70\n",
       "Name: Job_Motivator_Environmentally_friendly/responsible_work_practice, dtype: int64"
      ]
     },
     "metadata": {},
     "output_type": "display_data"
    },
    {
     "name": "stdout",
     "output_type": "stream",
     "text": [
      "----------------------------------------Job_Perk_Meals_allowance/Company_provided_meals_or_snacks---------------------------------------- - "
     ]
    },
    {
     "data": {
      "text/plain": [
       "5    908\n",
       "4    674\n",
       "6    604\n",
       "7    466\n",
       "3    307\n",
       "1    232\n",
       "2    180\n",
       "Name: Job_Perk_Meals_allowance/Company_provided_meals_or_snacks, dtype: int64"
      ]
     },
     "metadata": {},
     "output_type": "display_data"
    },
    {
     "name": "stdout",
     "output_type": "stream",
     "text": [
      "----------------------------------------Job_Perk_Transportation_benefit---------------------------------------- - "
     ]
    },
    {
     "data": {
      "text/plain": [
       "5    844\n",
       "4    750\n",
       "6    533\n",
       "7    384\n",
       "3    349\n",
       "1    292\n",
       "2    219\n",
       "Name: Job_Perk_Transportation_benefit, dtype: int64"
      ]
     },
     "metadata": {},
     "output_type": "display_data"
    },
    {
     "name": "stdout",
     "output_type": "stream",
     "text": [
      "----------------------------------------Job_Perk_Health_benefits---------------------------------------- - "
     ]
    },
    {
     "data": {
      "text/plain": [
       "7    1323\n",
       "6    1029\n",
       "5     620\n",
       "4     229\n",
       "3      78\n",
       "1      54\n",
       "2      38\n",
       "Name: Job_Perk_Health_benefits, dtype: int64"
      ]
     },
     "metadata": {},
     "output_type": "display_data"
    },
    {
     "name": "stdout",
     "output_type": "stream",
     "text": [
      "----------------------------------------Job_Perk_Fitness_or_wellness_benefit_(ex._gym_membership)---------------------------------------- - "
     ]
    },
    {
     "data": {
      "text/plain": [
       "4    850\n",
       "5    735\n",
       "3    429\n",
       "1    378\n",
       "6    376\n",
       "2    331\n",
       "7    272\n",
       "Name: Job_Perk_Fitness_or_wellness_benefit_(ex._gym_membership), dtype: int64"
      ]
     },
     "metadata": {},
     "output_type": "display_data"
    },
    {
     "name": "stdout",
     "output_type": "stream",
     "text": [
      "----------------------------------------Job_Perk_Computer/_Office_equipment_allowance---------------------------------------- - "
     ]
    },
    {
     "data": {
      "text/plain": [
       "7    1407\n",
       "6     938\n",
       "5     607\n",
       "4     249\n",
       "3      86\n",
       "1      45\n",
       "2      39\n",
       "Name: Job_Perk_Computer/_Office_equipment_allowance, dtype: int64"
      ]
     },
     "metadata": {},
     "output_type": "display_data"
    },
    {
     "name": "stdout",
     "output_type": "stream",
     "text": [
      "----------------------------------------Job_Perk_Professional_development_sponsorship---------------------------------------- - "
     ]
    },
    {
     "data": {
      "text/plain": [
       "5    979\n",
       "6    954\n",
       "7    756\n",
       "4    472\n",
       "3    115\n",
       "1     50\n",
       "2     45\n",
       "Name: Job_Perk_Professional_development_sponsorship, dtype: int64"
      ]
     },
     "metadata": {},
     "output_type": "display_data"
    },
    {
     "name": "stdout",
     "output_type": "stream",
     "text": [
      "----------------------------------------Job_Perk_Annual_bonus---------------------------------------- - "
     ]
    },
    {
     "data": {
      "text/plain": [
       "7    1098\n",
       "6     903\n",
       "5     771\n",
       "4     382\n",
       "3     104\n",
       "1      61\n",
       "2      52\n",
       "Name: Job_Perk_Annual_bonus, dtype: int64"
      ]
     },
     "metadata": {},
     "output_type": "display_data"
    },
    {
     "name": "stdout",
     "output_type": "stream",
     "text": [
      "----------------------------------------Job_Perk_Long-term_leave---------------------------------------- - "
     ]
    },
    {
     "data": {
      "text/plain": [
       "5    935\n",
       "4    790\n",
       "6    664\n",
       "7    558\n",
       "3    208\n",
       "2    130\n",
       "1     86\n",
       "Name: Job_Perk_Long-term_leave, dtype: int64"
      ]
     },
     "metadata": {},
     "output_type": "display_data"
    },
    {
     "name": "stdout",
     "output_type": "stream",
     "text": [
      "----------------------------------------Job_Perk_Parental_leave---------------------------------------- - "
     ]
    },
    {
     "data": {
      "text/plain": [
       "7    1190\n",
       "6     828\n",
       "5     614\n",
       "4     443\n",
       "1     117\n",
       "3     105\n",
       "2      74\n",
       "Name: Job_Perk_Parental_leave, dtype: int64"
      ]
     },
     "metadata": {},
     "output_type": "display_data"
    },
    {
     "name": "stdout",
     "output_type": "stream",
     "text": [
      "----------------------------------------Job_Perk_Stock_options_or_shares---------------------------------------- - "
     ]
    },
    {
     "data": {
      "text/plain": [
       "4    936\n",
       "5    739\n",
       "6    417\n",
       "3    412\n",
       "7    309\n",
       "1    296\n",
       "2    262\n",
       "Name: Job_Perk_Stock_options_or_shares, dtype: int64"
      ]
     },
     "metadata": {},
     "output_type": "display_data"
    },
    {
     "name": "stdout",
     "output_type": "stream",
     "text": [
      "----------------------------------------Job_Perk_Education_sponsorship---------------------------------------- - "
     ]
    },
    {
     "data": {
      "text/plain": [
       "5    1020\n",
       "4     744\n",
       "6     697\n",
       "7     473\n",
       "3     222\n",
       "1     111\n",
       "2     104\n",
       "Name: Job_Perk_Education_sponsorship, dtype: int64"
      ]
     },
     "metadata": {},
     "output_type": "display_data"
    },
    {
     "name": "stdout",
     "output_type": "stream",
     "text": [
      "----------------------------------------Job_Perk_Child_care---------------------------------------- - "
     ]
    },
    {
     "data": {
      "text/plain": [
       "5    793\n",
       "4    748\n",
       "6    637\n",
       "7    525\n",
       "3    257\n",
       "1    246\n",
       "2    165\n",
       "Name: Job_Perk_Child_care, dtype: int64"
      ]
     },
     "metadata": {},
     "output_type": "display_data"
    },
    {
     "name": "stdout",
     "output_type": "stream",
     "text": [
      "----------------------------------------Citizenship---------------------------------------- - "
     ]
    },
    {
     "data": {
      "text/plain": [
       "Portuguese      3142\n",
       "Brazilian        134\n",
       "Italian           10\n",
       "Spanish           10\n",
       "French             7\n",
       "British            6\n",
       "Indian             5\n",
       "Cape Verdean       5\n",
       "Angolan            4\n",
       "German             4\n",
       "Name: Citizenship, dtype: int64"
      ]
     },
     "metadata": {},
     "output_type": "display_data"
    },
    {
     "name": "stdout",
     "output_type": "stream",
     "text": [
      "----------------------------------------Birth_Year---------------------------------------- - "
     ]
    },
    {
     "data": {
      "text/plain": [
       "1992.0    215\n",
       "1990.0    202\n",
       "1988.0    196\n",
       "1989.0    194\n",
       "1991.0    193\n",
       "1993.0    178\n",
       "1995.0    170\n",
       "1994.0    156\n",
       "1987.0    153\n",
       "1985.0    142\n",
       "Name: Birth_Year, dtype: int64"
      ]
     },
     "metadata": {},
     "output_type": "display_data"
    },
    {
     "name": "stdout",
     "output_type": "stream",
     "text": [
      "----------------------------------------Age---------------------------------------- - "
     ]
    },
    {
     "data": {
      "text/plain": [
       "29.0    215\n",
       "31.0    202\n",
       "33.0    196\n",
       "32.0    194\n",
       "30.0    193\n",
       "28.0    178\n",
       "26.0    170\n",
       "27.0    156\n",
       "34.0    153\n",
       "36.0    142\n",
       "Name: Age, dtype: int64"
      ]
     },
     "metadata": {},
     "output_type": "display_data"
    },
    {
     "name": "stdout",
     "output_type": "stream",
     "text": [
      "----------------------------------------Gender---------------------------------------- - "
     ]
    },
    {
     "data": {
      "text/plain": [
       "Male                   2899\n",
       "Female                  422\n",
       "I prefer not to say      50\n",
       "Name: Gender, dtype: int64"
      ]
     },
     "metadata": {},
     "output_type": "display_data"
    },
    {
     "name": "stdout",
     "output_type": "stream",
     "text": [
      "----------------------------------------English_Level---------------------------------------- - "
     ]
    },
    {
     "data": {
      "text/plain": [
       "Full professional proficiency       1453\n",
       "Professional working proficiency    1195\n",
       "Native or bilingual proficiency      426\n",
       "Limited working proficiency          245\n",
       "Elementary                            52\n",
       "Name: English_Level, dtype: int64"
      ]
     },
     "metadata": {},
     "output_type": "display_data"
    },
    {
     "name": "stdout",
     "output_type": "stream",
     "text": [
      "----------------------------------------Way_Into_Tech---------------------------------------- - "
     ]
    },
    {
     "data": {
      "text/plain": [
       "University       2504\n",
       "Self-taught       633\n",
       "Code bootcamp     159\n",
       "NaN                75\n",
       "Name: Way_Into_Tech, dtype: int64"
      ]
     },
     "metadata": {},
     "output_type": "display_data"
    },
    {
     "name": "stdout",
     "output_type": "stream",
     "text": [
      "----------------------------------------Way_Into_Tech_Other---------------------------------------- - "
     ]
    },
    {
     "data": {
      "text/plain": [
       "NaN                                                                                                             3297\n",
       "High School                                                                                                        5\n",
       "Professional Course                                                                                                2\n",
       ".                                                                                                                  2\n",
       "Professional school                                                                                                2\n",
       "Work                                                                                                               2\n",
       "Internship                                                                                                         2\n",
       "Since I have 6 years old. I decide o want to be a \"man of cumputers\". 10 yrs learn my first language,pascal.       1\n",
       "Post-graduation                                                                                                    1\n",
       "Carrer change                                                                                                      1\n",
       "Name: Way_Into_Tech_Other, dtype: int64"
      ]
     },
     "metadata": {},
     "output_type": "display_data"
    },
    {
     "name": "stdout",
     "output_type": "stream",
     "text": [
      "----------------------------------------Education_Level---------------------------------------- - "
     ]
    },
    {
     "data": {
      "text/plain": [
       "Masters degree                         1544\n",
       "Bachelor degree                        1304\n",
       "Trade/technical/vocational training     156\n",
       "High School Education                   146\n",
       "University drop out                     144\n",
       "Doctoral degree                          49\n",
       "I prefer not to answer                   19\n",
       "Basic Education                           7\n",
       "NaN                                       2\n",
       "Name: Education_Level, dtype: int64"
      ]
     },
     "metadata": {},
     "output_type": "display_data"
    },
    {
     "name": "stdout",
     "output_type": "stream",
     "text": [
      "----------------------------------------Working_Experience---------------------------------------- - "
     ]
    },
    {
     "data": {
      "text/plain": [
       "More than 9 years        1281\n",
       "Between 3 - 6 years       744\n",
       "Between 1 - 3 years       624\n",
       "Between 6 - 9 years       545\n",
       "Less than 1 year          165\n",
       "No working experience      12\n",
       "Name: Working_Experience, dtype: int64"
      ]
     },
     "metadata": {},
     "output_type": "display_data"
    },
    {
     "name": "stdout",
     "output_type": "stream",
     "text": [
      "----------------------------------------Working_Experience_Aggregated---------------------------------------- - "
     ]
    },
    {
     "data": {
      "text/plain": [
       "6+ years       1826\n",
       "0 - 3 years     789\n",
       "3 - 6 years     744\n",
       "0 Years          12\n",
       "Name: Working_Experience_Aggregated, dtype: int64"
      ]
     },
     "metadata": {},
     "output_type": "display_data"
    }
   ],
   "source": [
    "for col in raw_data.columns:\n",
    "    print('-' * 40 + col + '-' * 40 , end=' - ')\n",
    "    display(raw_data[col].value_counts(dropna=False).head(10))"
   ]
  },
  {
   "cell_type": "code",
   "execution_count": null,
   "metadata": {},
   "outputs": [],
   "source": []
  }
 ],
 "metadata": {
  "kernelspec": {
   "display_name": "Python 3",
   "language": "python",
   "name": "python3"
  },
  "language_info": {
   "codemirror_mode": {
    "name": "ipython",
    "version": 3
   },
   "file_extension": ".py",
   "mimetype": "text/x-python",
   "name": "python",
   "nbconvert_exporter": "python",
   "pygments_lexer": "ipython3",
   "version": "3.8.5"
  }
 },
 "nbformat": 4,
 "nbformat_minor": 4
}
